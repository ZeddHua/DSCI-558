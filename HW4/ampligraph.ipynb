{
  "cells": [
    {
      "cell_type": "code",
      "source": [
        "!pip install ampligraph"
      ],
      "metadata": {
        "id": "FO_tYM52cRsq"
      },
      "id": "FO_tYM52cRsq",
      "execution_count": null,
      "outputs": []
    },
    {
      "cell_type": "code",
      "source": [
        "!pip install tensorflow==1.14"
      ],
      "metadata": {
        "id": "PKou1mRRw8pl"
      },
      "id": "PKou1mRRw8pl",
      "execution_count": null,
      "outputs": []
    },
    {
      "cell_type": "markdown",
      "id": "bottom-found",
      "metadata": {
        "id": "bottom-found"
      },
      "source": [
        "# Link Prediction"
      ]
    },
    {
      "cell_type": "code",
      "execution_count": null,
      "id": "aware-letter",
      "metadata": {
        "execution": {
          "iopub.execute_input": "2022-10-04T19:03:52.526842Z",
          "iopub.status.busy": "2022-10-04T19:03:52.526842Z",
          "iopub.status.idle": "2022-10-04T19:04:00.282851Z",
          "shell.execute_reply": "2022-10-04T19:04:00.282851Z",
          "shell.execute_reply.started": "2022-10-04T19:03:52.526842Z"
        },
        "id": "aware-letter"
      },
      "outputs": [],
      "source": [
        "import numpy as np\n",
        "import pandas as pd\n",
        "import requests\n",
        "import ampligraph\n",
        "from ampligraph.datasets import load_from_csv\n",
        "ampligraph.__version__"
      ]
    },
    {
      "cell_type": "code",
      "execution_count": null,
      "id": "under-settlement",
      "metadata": {
        "id": "under-settlement"
      },
      "outputs": [],
      "source": [
        "url = 'https://ampligraph.s3-eu-west-1.amazonaws.com/datasets/GoT.csv'\n",
        "open('GoT.csv', 'wb').write(requests.get(url).content)\n",
        "X = load_from_csv('.', 'GoT.csv', sep=',')"
      ]
    },
    {
      "cell_type": "code",
      "execution_count": null,
      "id": "interstate-thanksgiving",
      "metadata": {
        "execution": {
          "iopub.execute_input": "2022-10-05T00:05:39.013762Z",
          "iopub.status.busy": "2022-10-05T00:05:39.013762Z",
          "iopub.status.idle": "2022-10-05T00:05:39.033707Z",
          "shell.execute_reply": "2022-10-05T00:05:39.033707Z",
          "shell.execute_reply.started": "2022-10-05T00:05:39.013762Z"
        },
        "colab": {
          "base_uri": "https://localhost:8080/"
        },
        "id": "interstate-thanksgiving",
        "outputId": "ba09cc2e-b268-4941-ea0e-1ad61c7576d0"
      },
      "outputs": [
        {
          "output_type": "execute_result",
          "data": {
            "text/plain": [
              "numpy.ndarray"
            ]
          },
          "metadata": {},
          "execution_count": 5
        }
      ],
      "source": [
        "type(X)"
      ]
    },
    {
      "cell_type": "markdown",
      "id": "weekly-explanation",
      "metadata": {
        "id": "weekly-explanation"
      },
      "source": [
        "## 1. Dataset exploration"
      ]
    },
    {
      "cell_type": "code",
      "execution_count": null,
      "id": "bacterial-finnish",
      "metadata": {
        "execution": {
          "iopub.execute_input": "2022-10-04T19:10:15.814331Z",
          "iopub.status.busy": "2022-10-04T19:10:15.814331Z",
          "iopub.status.idle": "2022-10-04T19:10:15.827296Z",
          "shell.execute_reply": "2022-10-04T19:10:15.827296Z",
          "shell.execute_reply.started": "2022-10-04T19:10:15.814331Z"
        },
        "colab": {
          "base_uri": "https://localhost:8080/"
        },
        "id": "bacterial-finnish",
        "outputId": "b0a76e54-c674-4a55-c751-6b90a9bee5f0"
      },
      "outputs": [
        {
          "output_type": "execute_result",
          "data": {
            "text/plain": [
              "array([['Smithyton', 'SEAT_OF', 'House Shermer of Smithyton'],\n",
              "       ['House Mormont of Bear Island', 'LED_BY', 'Maege Mormont'],\n",
              "       ['Margaery Tyrell', 'SPOUSE', 'Joffrey Baratheon'],\n",
              "       ...,\n",
              "       ['Extinct', 'SEAT_OF', 'House Hook'],\n",
              "       ['House Marsh', 'SWORN_TO', 'House Bolton of the Dreadfort'],\n",
              "       ['House Marbrand of Ashemark', 'IN_REGION', 'The Westerlands']],\n",
              "      dtype=object)"
            ]
          },
          "metadata": {},
          "execution_count": 6
        }
      ],
      "source": [
        "X"
      ]
    },
    {
      "cell_type": "code",
      "execution_count": null,
      "id": "focused-cornwall",
      "metadata": {
        "execution": {
          "iopub.execute_input": "2022-10-04T19:13:51.870713Z",
          "iopub.status.busy": "2022-10-04T19:13:51.870713Z",
          "iopub.status.idle": "2022-10-04T19:13:51.882679Z",
          "shell.execute_reply": "2022-10-04T19:13:51.882679Z",
          "shell.execute_reply.started": "2022-10-04T19:13:51.870713Z"
        },
        "colab": {
          "base_uri": "https://localhost:8080/"
        },
        "id": "focused-cornwall",
        "outputId": "895e85c7-c747-45e8-ea73-9713210da364"
      },
      "outputs": [
        {
          "output_type": "execute_result",
          "data": {
            "text/plain": [
              "array(['Abelar Hightower', 'Acorn Hall', 'Addam Frey', ..., 'the Antlers',\n",
              "       'the Paps', 'unnamed tower'], dtype=object)"
            ]
          },
          "metadata": {},
          "execution_count": 7
        }
      ],
      "source": [
        "entities = np.unique(np.concatenate([X[:, 0], X[:, 2]]))\n",
        "entities"
      ]
    },
    {
      "cell_type": "code",
      "execution_count": null,
      "id": "guilty-zoning",
      "metadata": {
        "execution": {
          "iopub.execute_input": "2022-10-04T19:13:52.613019Z",
          "iopub.status.busy": "2022-10-04T19:13:52.613019Z",
          "iopub.status.idle": "2022-10-04T19:13:52.629973Z",
          "shell.execute_reply": "2022-10-04T19:13:52.629973Z",
          "shell.execute_reply.started": "2022-10-04T19:13:52.613019Z"
        },
        "colab": {
          "base_uri": "https://localhost:8080/"
        },
        "id": "guilty-zoning",
        "outputId": "4c1c7a47-20e2-4275-e08c-12121cd93191"
      },
      "outputs": [
        {
          "output_type": "execute_result",
          "data": {
            "text/plain": [
              "array(['ALLIED_WITH', 'BRANCH_OF', 'FOUNDED_BY', 'HEIR_TO', 'IN_REGION',\n",
              "       'LED_BY', 'PARENT_OF', 'SEAT_OF', 'SPOUSE', 'SWORN_TO'],\n",
              "      dtype=object)"
            ]
          },
          "metadata": {},
          "execution_count": 8
        }
      ],
      "source": [
        "relations = np.unique(X[:, 1])\n",
        "relations"
      ]
    },
    {
      "cell_type": "markdown",
      "id": "registered-representative",
      "metadata": {
        "id": "registered-representative"
      },
      "source": [
        "## 2. Defining train and test datasets"
      ]
    },
    {
      "cell_type": "code",
      "execution_count": null,
      "id": "latest-organization",
      "metadata": {
        "execution": {
          "iopub.execute_input": "2022-10-04T19:17:02.241268Z",
          "iopub.status.busy": "2022-10-04T19:17:02.241268Z",
          "iopub.status.idle": "2022-10-04T19:17:02.249246Z",
          "shell.execute_reply": "2022-10-04T19:17:02.249246Z",
          "shell.execute_reply.started": "2022-10-04T19:17:02.241268Z"
        },
        "id": "latest-organization",
        "outputId": "1254ba2f-d24c-4949-9aa0-93eee8919738",
        "colab": {
          "base_uri": "https://localhost:8080/"
        }
      },
      "outputs": [
        {
          "output_type": "execute_result",
          "data": {
            "text/plain": [
              "3175"
            ]
          },
          "metadata": {},
          "execution_count": 9
        }
      ],
      "source": [
        "len(X)"
      ]
    },
    {
      "cell_type": "code",
      "execution_count": null,
      "id": "federal-immune",
      "metadata": {
        "execution": {
          "iopub.execute_input": "2022-10-04T19:17:10.471991Z",
          "iopub.status.busy": "2022-10-04T19:17:10.471991Z",
          "iopub.status.idle": "2022-10-04T19:17:10.495926Z",
          "shell.execute_reply": "2022-10-04T19:17:10.495926Z",
          "shell.execute_reply.started": "2022-10-04T19:17:10.471991Z"
        },
        "id": "federal-immune"
      },
      "outputs": [],
      "source": [
        "# X_train, X_test = X[:3000], X[3000:]\n",
        "from ampligraph.evaluation import train_test_split_no_unseen \n",
        "\n",
        "X_train, X_test = train_test_split_no_unseen(X, test_size=175) "
      ]
    },
    {
      "cell_type": "code",
      "execution_count": null,
      "id": "mobile-milwaukee",
      "metadata": {
        "execution": {
          "iopub.execute_input": "2022-10-04T19:17:10.908635Z",
          "iopub.status.busy": "2022-10-04T19:17:10.908635Z",
          "iopub.status.idle": "2022-10-04T19:17:10.923595Z",
          "shell.execute_reply": "2022-10-04T19:17:10.923595Z",
          "shell.execute_reply.started": "2022-10-04T19:17:10.908635Z"
        },
        "colab": {
          "base_uri": "https://localhost:8080/"
        },
        "id": "mobile-milwaukee",
        "outputId": "b1358607-4c9d-4727-9118-d7d5d7fd4567"
      },
      "outputs": [
        {
          "output_type": "stream",
          "name": "stdout",
          "text": [
            "Train set size:  (3000, 3)\n",
            "Test set size:  (175, 3)\n"
          ]
        }
      ],
      "source": [
        "print('Train set size: ', X_train.shape)\n",
        "print('Test set size: ', X_test.shape)"
      ]
    },
    {
      "cell_type": "markdown",
      "id": "contained-flexibility",
      "metadata": {
        "id": "contained-flexibility"
      },
      "source": [
        "## 3. Training a model"
      ]
    },
    {
      "cell_type": "code",
      "source": [
        "#!pip install tensorflow==1.14"
      ],
      "metadata": {
        "id": "GNKVZslRdtRv"
      },
      "id": "GNKVZslRdtRv",
      "execution_count": null,
      "outputs": []
    },
    {
      "cell_type": "code",
      "source": [
        "#%tensorflow_version 1.x\n",
        "import tensorflow\n",
        "print(tensorflow.__version__)"
      ],
      "metadata": {
        "id": "9ENfY3z8cr-w",
        "colab": {
          "base_uri": "https://localhost:8080/"
        },
        "outputId": "a7576379-2418-4777-8b4c-4f3b83822efb"
      },
      "id": "9ENfY3z8cr-w",
      "execution_count": null,
      "outputs": [
        {
          "output_type": "stream",
          "name": "stdout",
          "text": [
            "1.14.0\n"
          ]
        }
      ]
    },
    {
      "cell_type": "code",
      "execution_count": null,
      "id": "concerned-writer",
      "metadata": {
        "execution": {
          "iopub.execute_input": "2022-10-05T04:59:12.865480Z",
          "iopub.status.busy": "2022-10-05T04:59:12.864483Z",
          "iopub.status.idle": "2022-10-05T04:59:12.980161Z",
          "shell.execute_reply": "2022-10-05T04:59:12.979422Z",
          "shell.execute_reply.started": "2022-10-05T04:59:12.865480Z"
        },
        "id": "concerned-writer"
      },
      "outputs": [],
      "source": [
        "from ampligraph.latent_features import TransE, DistMult, ComplEx"
      ]
    },
    {
      "cell_type": "code",
      "execution_count": null,
      "id": "neither-siemens",
      "metadata": {
        "id": "neither-siemens"
      },
      "outputs": [],
      "source": [
        "model = ComplEx(batches_count=100, \n",
        "                seed=0, \n",
        "                epochs=200, \n",
        "                k=150, \n",
        "                eta=5,\n",
        "                optimizer='adam', \n",
        "                optimizer_params={'lr':1e-3},\n",
        "                loss='multiclass_nll', \n",
        "                regularizer='LP', \n",
        "                regularizer_params={'p':3, 'lambda':1e-5}, \n",
        "                verbose=True)"
      ]
    },
    {
      "cell_type": "code",
      "source": [
        "model2 = TransE(batches_count=100, \n",
        "                seed=0, \n",
        "                epochs=200, \n",
        "                k=150, \n",
        "                eta=5,\n",
        "                optimizer='adam', \n",
        "                optimizer_params={'lr':1e-3},\n",
        "                loss='multiclass_nll', \n",
        "                regularizer='LP', \n",
        "                regularizer_params={'p':3, 'lambda':1e-5}, \n",
        "                verbose=True)"
      ],
      "metadata": {
        "id": "VfdOnCGee5J5"
      },
      "id": "VfdOnCGee5J5",
      "execution_count": null,
      "outputs": []
    },
    {
      "cell_type": "code",
      "source": [
        "model3 = DistMult(batches_count=100, \n",
        "                seed=0, \n",
        "                epochs=200, \n",
        "                k=150, \n",
        "                eta=5,\n",
        "                optimizer='adam', \n",
        "                optimizer_params={'lr':1e-3},\n",
        "                loss='multiclass_nll', \n",
        "                regularizer='LP', \n",
        "                regularizer_params={'p':3, 'lambda':1e-5}, \n",
        "                verbose=True)"
      ],
      "metadata": {
        "id": "p6-Vkaige8v2"
      },
      "id": "p6-Vkaige8v2",
      "execution_count": null,
      "outputs": []
    },
    {
      "cell_type": "markdown",
      "id": "assisted-timeline",
      "metadata": {
        "id": "assisted-timeline"
      },
      "source": [
        "## 4. Fitting the model"
      ]
    },
    {
      "cell_type": "code",
      "execution_count": null,
      "id": "statewide-documentary",
      "metadata": {
        "execution": {
          "iopub.execute_input": "2022-10-05T04:59:23.042496Z",
          "iopub.status.busy": "2022-10-05T04:59:23.041498Z",
          "iopub.status.idle": "2022-10-05T04:59:23.046486Z",
          "shell.execute_reply": "2022-10-05T04:59:23.046486Z",
          "shell.execute_reply.started": "2022-10-05T04:59:23.042496Z"
        },
        "colab": {
          "base_uri": "https://localhost:8080/",
          "height": 35
        },
        "id": "statewide-documentary",
        "outputId": "ee85bd49-26b4-429d-cfcc-24190de8bb9c"
      },
      "outputs": [
        {
          "output_type": "execute_result",
          "data": {
            "text/plain": [
              "'1.14.0'"
            ],
            "application/vnd.google.colaboratory.intrinsic+json": {
              "type": "string"
            }
          },
          "metadata": {},
          "execution_count": 18
        }
      ],
      "source": [
        "import tensorflow as tf\n",
        "tf.__version__"
      ]
    },
    {
      "cell_type": "code",
      "execution_count": null,
      "id": "opponent-leone",
      "metadata": {
        "colab": {
          "base_uri": "https://localhost:8080/"
        },
        "id": "opponent-leone",
        "outputId": "bdb94bc7-ab08-47e5-dffd-272a118e1cb4"
      },
      "outputs": [
        {
          "output_type": "stream",
          "name": "stderr",
          "text": [
            "Average ComplEx Loss:   0.018880: 100%|██████████| 200/200 [09:05<00:00,  2.73s/epoch]\n"
          ]
        }
      ],
      "source": [
        "tf.logging.set_verbosity(tf.logging.ERROR)\n",
        "\n",
        "model.fit(X_train, early_stopping = False)"
      ]
    },
    {
      "cell_type": "code",
      "source": [
        "model2.fit(X_train, early_stopping = False)"
      ],
      "metadata": {
        "colab": {
          "base_uri": "https://localhost:8080/"
        },
        "id": "Za1Y8S3OgxZX",
        "outputId": "5ef317ff-0201-4538-e463-cd71b2c22661"
      },
      "id": "Za1Y8S3OgxZX",
      "execution_count": null,
      "outputs": [
        {
          "output_type": "stream",
          "name": "stderr",
          "text": [
            "Average TransE Loss:   0.021648: 100%|██████████| 200/200 [04:38<00:00,  1.39s/epoch]\n"
          ]
        }
      ]
    },
    {
      "cell_type": "code",
      "source": [
        "model3.fit(X_train, early_stopping = False)"
      ],
      "metadata": {
        "colab": {
          "base_uri": "https://localhost:8080/"
        },
        "id": "UotoAgCxgy-J",
        "outputId": "3511e8f7-33b2-43bd-dcd8-57904e05b054"
      },
      "id": "UotoAgCxgy-J",
      "execution_count": null,
      "outputs": [
        {
          "output_type": "stream",
          "name": "stderr",
          "text": [
            "Average DistMult Loss:   0.019057: 100%|██████████| 200/200 [04:50<00:00,  1.45s/epoch]\n"
          ]
        }
      ]
    },
    {
      "cell_type": "markdown",
      "id": "checked-bullet",
      "metadata": {
        "id": "checked-bullet"
      },
      "source": [
        "## 5. Saving and restoring a model"
      ]
    },
    {
      "cell_type": "code",
      "execution_count": null,
      "id": "individual-phase",
      "metadata": {
        "id": "individual-phase"
      },
      "outputs": [],
      "source": [
        "#from ampligraph.latent_features import save_model, restore_model"
      ]
    },
    {
      "cell_type": "code",
      "execution_count": null,
      "id": "sought-cemetery",
      "metadata": {
        "id": "sought-cemetery"
      },
      "outputs": [],
      "source": [
        "#save_model(model, './best_model.pkl')"
      ]
    },
    {
      "cell_type": "markdown",
      "id": "sufficient-harmony",
      "metadata": {
        "id": "sufficient-harmony"
      },
      "source": [
        "## 6. Evaluating a model"
      ]
    },
    {
      "cell_type": "code",
      "execution_count": null,
      "id": "sensitive-boost",
      "metadata": {
        "id": "sensitive-boost"
      },
      "outputs": [],
      "source": [
        "from ampligraph.evaluation import evaluate_performance"
      ]
    },
    {
      "cell_type": "code",
      "execution_count": null,
      "id": "cheap-hunter",
      "metadata": {
        "id": "cheap-hunter"
      },
      "outputs": [],
      "source": [
        "positives_filter = X"
      ]
    },
    {
      "cell_type": "code",
      "execution_count": null,
      "id": "serial-approach",
      "metadata": {
        "colab": {
          "base_uri": "https://localhost:8080/"
        },
        "id": "serial-approach",
        "outputId": "efb47ce6-5a8a-4290-c99e-8da2be7d5580"
      },
      "outputs": [
        {
          "output_type": "stream",
          "name": "stdout",
          "text": [
            "WARNING - DeprecationWarning: use_default_protocol will be removed in future. Please use corrupt_side argument instead.\n"
          ]
        },
        {
          "output_type": "stream",
          "name": "stderr",
          "text": [
            "100%|██████████| 175/175 [00:03<00:00, 51.82it/s]\n"
          ]
        }
      ],
      "source": [
        "ranks = evaluate_performance(X_test, \n",
        "                model=model, \n",
        "                filter_triples=positives_filter,   # Corruption strategy filter defined above \n",
        "                use_default_protocol=True, # corrupt subj and obj separately while evaluating\n",
        "                verbose=True)"
      ]
    },
    {
      "cell_type": "code",
      "execution_count": null,
      "id": "unable-costa",
      "metadata": {
        "colab": {
          "base_uri": "https://localhost:8080/"
        },
        "id": "unable-costa",
        "outputId": "fb0c1486-92f4-4398-9a8a-5388d9cd6ebe"
      },
      "outputs": [
        {
          "output_type": "stream",
          "name": "stdout",
          "text": [
            "ComplEx:\n",
            "MRR: 0.42\n",
            "Hits@10: 0.55\n",
            "Hits@3: 0.43\n",
            "Hits@1: 0.35\n"
          ]
        }
      ],
      "source": [
        "from ampligraph.evaluation import mr_score, mrr_score, hits_at_n_score\n",
        "print('ComplEx:')\n",
        "\n",
        "mrr = mrr_score(ranks)\n",
        "print(\"MRR: %.2f\" % (mrr))\n",
        "\n",
        "hits_10 = hits_at_n_score(ranks, n=10)\n",
        "print(\"Hits@10: %.2f\" % (hits_10))\n",
        "hits_3 = hits_at_n_score(ranks, n=3)\n",
        "print(\"Hits@3: %.2f\" % (hits_3))\n",
        "hits_1 = hits_at_n_score(ranks, n=1)\n",
        "print(\"Hits@1: %.2f\" % (hits_1))"
      ]
    },
    {
      "cell_type": "code",
      "source": [
        "ranks = evaluate_performance(X_test, \n",
        "                model=model2, \n",
        "                filter_triples=positives_filter,   # Corruption strategy filter defined above \n",
        "                use_default_protocol=True, # corrupt subj and obj separately while evaluating\n",
        "                verbose=True)\n",
        "print('TransE:')\n",
        "\n",
        "mrr = mrr_score(ranks)\n",
        "print(\"MRR: %.2f\" % (mrr))\n",
        "\n",
        "hits_10 = hits_at_n_score(ranks, n=10)\n",
        "print(\"Hits@10: %.2f\" % (hits_10))\n",
        "hits_3 = hits_at_n_score(ranks, n=3)\n",
        "print(\"Hits@3: %.2f\" % (hits_3))\n",
        "hits_1 = hits_at_n_score(ranks, n=1)\n",
        "print(\"Hits@1: %.2f\" % (hits_1))"
      ],
      "metadata": {
        "colab": {
          "base_uri": "https://localhost:8080/"
        },
        "id": "qwB6YxQOhbAf",
        "outputId": "5c830edc-638f-4be4-fd32-23e4493556d7"
      },
      "id": "qwB6YxQOhbAf",
      "execution_count": null,
      "outputs": [
        {
          "output_type": "stream",
          "name": "stdout",
          "text": [
            "WARNING - DeprecationWarning: use_default_protocol will be removed in future. Please use corrupt_side argument instead.\n"
          ]
        },
        {
          "output_type": "stream",
          "name": "stderr",
          "text": [
            "100%|██████████| 175/175 [00:00<00:00, 175.63it/s]\n"
          ]
        },
        {
          "output_type": "stream",
          "name": "stdout",
          "text": [
            "TransE:\n",
            "MRR: 0.26\n",
            "Hits@10: 0.39\n",
            "Hits@3: 0.32\n",
            "Hits@1: 0.17\n"
          ]
        }
      ]
    },
    {
      "cell_type": "code",
      "source": [
        "ranks = evaluate_performance(X_test, \n",
        "                model=model3, \n",
        "                filter_triples=positives_filter,   # Corruption strategy filter defined above \n",
        "                use_default_protocol=True, # corrupt subj and obj separately while evaluating\n",
        "                verbose=True)\n",
        "print('DistMult:')\n",
        "\n",
        "mrr = mrr_score(ranks)\n",
        "print(\"MRR: %.2f\" % (mrr))\n",
        "\n",
        "hits_10 = hits_at_n_score(ranks, n=10)\n",
        "print(\"Hits@10: %.2f\" % (hits_10))\n",
        "hits_3 = hits_at_n_score(ranks, n=3)\n",
        "print(\"Hits@3: %.2f\" % (hits_3))\n",
        "hits_1 = hits_at_n_score(ranks, n=1)\n",
        "print(\"Hits@1: %.2f\" % (hits_1))"
      ],
      "metadata": {
        "colab": {
          "base_uri": "https://localhost:8080/"
        },
        "id": "DO53AWKbhj2u",
        "outputId": "da18005d-56cd-44c7-bf11-4f70750ce3d9"
      },
      "id": "DO53AWKbhj2u",
      "execution_count": null,
      "outputs": [
        {
          "output_type": "stream",
          "name": "stdout",
          "text": [
            "WARNING - DeprecationWarning: use_default_protocol will be removed in future. Please use corrupt_side argument instead.\n"
          ]
        },
        {
          "output_type": "stream",
          "name": "stderr",
          "text": [
            "100%|██████████| 175/175 [00:01<00:00, 100.56it/s]\n"
          ]
        },
        {
          "output_type": "stream",
          "name": "stdout",
          "text": [
            "DistMult:\n",
            "MRR: 0.42\n",
            "Hits@10: 0.56\n",
            "Hits@3: 0.46\n",
            "Hits@1: 0.34\n"
          ]
        }
      ]
    },
    {
      "cell_type": "markdown",
      "id": "broadband-account",
      "metadata": {
        "id": "broadband-account"
      },
      "source": [
        "## 7. Predicting New Links"
      ]
    },
    {
      "cell_type": "code",
      "execution_count": null,
      "id": "sharing-sarah",
      "metadata": {
        "id": "sharing-sarah"
      },
      "outputs": [],
      "source": [
        "X_unseen = np.array([\n",
        "    ['Jorah Mormont', 'SPOUSE', 'Daenerys Targaryen'],\n",
        "    ['Tyrion Lannister', 'SPOUSE', 'Missandei'],\n",
        "    [\"King's Landing\", 'SEAT_OF', 'House Lannister of Casterly Rock'],\n",
        "    ['Sansa Stark', 'SPOUSE', 'Petyr Baelish'],\n",
        "    ['Daenerys Targaryen', 'SPOUSE', 'Jon Snow'],\n",
        "    ['Daenerys Targaryen', 'SPOUSE', 'Craster'],\n",
        "    ['House Stark of Winterfell', 'IN_REGION', 'The North'],\n",
        "    ['House Stark of Winterfell', 'IN_REGION', 'Dorne'],\n",
        "    ['House Tyrell of Highgarden', 'IN_REGION', 'Beyond the Wall'],\n",
        "    ['Brandon Stark', 'ALLIED_WITH', 'House Stark of Winterfell']\n",
        "])"
      ]
    },
    {
      "cell_type": "code",
      "execution_count": null,
      "id": "unexpected-witness",
      "metadata": {
        "id": "unexpected-witness"
      },
      "outputs": [],
      "source": [
        "unseen_filter = np.array(list({tuple(i) for i in np.vstack((positives_filter, X_unseen))}))"
      ]
    },
    {
      "cell_type": "code",
      "source": [
        "ranks_unseen = evaluate_performance(\n",
        "    X_unseen, \n",
        "    model=model, \n",
        "    filter_triples=unseen_filter,   # Corruption strategy filter defined above \n",
        "    corrupt_side = 's+o',\n",
        "    use_default_protocol=False, # corrupt subj and obj separately while evaluating\n",
        "    verbose=True\n",
        ")"
      ],
      "metadata": {
        "colab": {
          "base_uri": "https://localhost:8080/"
        },
        "id": "3ueUKkZlnKCY",
        "outputId": "8eecd9eb-1168-4f8f-ddce-29d433062e12"
      },
      "id": "3ueUKkZlnKCY",
      "execution_count": null,
      "outputs": [
        {
          "output_type": "stream",
          "name": "stderr",
          "text": [
            "100%|██████████| 10/10 [00:00<00:00, 21.01it/s]\n"
          ]
        }
      ]
    },
    {
      "cell_type": "code",
      "source": [
        "scores = model.predict(X_unseen)"
      ],
      "metadata": {
        "id": "E3Jzd7jknMW5"
      },
      "id": "E3Jzd7jknMW5",
      "execution_count": null,
      "outputs": []
    },
    {
      "cell_type": "code",
      "source": [
        "scores"
      ],
      "metadata": {
        "colab": {
          "base_uri": "https://localhost:8080/"
        },
        "id": "t4mp8wCQorII",
        "outputId": "771d1314-ff84-4e53-f307-406d853fd144"
      },
      "id": "t4mp8wCQorII",
      "execution_count": null,
      "outputs": [
        {
          "output_type": "execute_result",
          "data": {
            "text/plain": [
              "array([-0.41005313, -0.7544201 ,  0.64468706,  2.448595  , -0.4941705 ,\n",
              "        0.28912663,  3.023992  ,  0.7066382 , -0.5839975 ,  4.652188  ],\n",
              "      dtype=float32)"
            ]
          },
          "metadata": {},
          "execution_count": 34
        }
      ]
    },
    {
      "cell_type": "markdown",
      "id": "applicable-accent",
      "metadata": {
        "id": "applicable-accent"
      },
      "source": [
        "---"
      ]
    },
    {
      "cell_type": "code",
      "source": [
        "from scipy.special import expit\n",
        "probs = expit(scores)\n",
        "pd.DataFrame(list(zip([' '.join(x) for x in X_unseen], \n",
        "                      ranks_unseen, \n",
        "                      np.squeeze(scores),\n",
        "                      np.squeeze(probs))), \n",
        "             columns=['statement', 'rank', 'score', 'prob']).sort_values(\"score\")"
      ],
      "metadata": {
        "colab": {
          "base_uri": "https://localhost:8080/",
          "height": 363
        },
        "id": "Ij1fcA_MnRoI",
        "outputId": "9c88ae27-20a9-4e74-d9a7-5b32fa915379"
      },
      "id": "Ij1fcA_MnRoI",
      "execution_count": null,
      "outputs": [
        {
          "output_type": "execute_result",
          "data": {
            "text/plain": [
              "                                           statement  rank     score      prob\n",
              "1                  Tyrion Lannister SPOUSE Missandei  3394 -0.754420  0.319859\n",
              "8  House Tyrell of Highgarden IN_REGION Beyond th...  3203 -0.583997  0.358013\n",
              "4                 Daenerys Targaryen SPOUSE Jon Snow  3140 -0.494170  0.378912\n",
              "0            Jorah Mormont SPOUSE Daenerys Targaryen  2759 -0.410053  0.398899\n",
              "5                  Daenerys Targaryen SPOUSE Craster  1558  0.289127  0.571782\n",
              "2  King's Landing SEAT_OF House Lannister of Cast...   741  0.644687  0.655812\n",
              "7          House Stark of Winterfell IN_REGION Dorne   578  0.706638  0.669658\n",
              "3                   Sansa Stark SPOUSE Petyr Baelish    34  2.448595  0.920459\n",
              "6      House Stark of Winterfell IN_REGION The North     7  3.023992  0.953646\n",
              "9  Brandon Stark ALLIED_WITH House Stark of Winte...     1  4.652188  0.990550"
            ],
            "text/html": [
              "\n",
              "  <div id=\"df-818c3d6e-8453-4b87-a23a-3c01468c8ceb\">\n",
              "    <div class=\"colab-df-container\">\n",
              "      <div>\n",
              "<style scoped>\n",
              "    .dataframe tbody tr th:only-of-type {\n",
              "        vertical-align: middle;\n",
              "    }\n",
              "\n",
              "    .dataframe tbody tr th {\n",
              "        vertical-align: top;\n",
              "    }\n",
              "\n",
              "    .dataframe thead th {\n",
              "        text-align: right;\n",
              "    }\n",
              "</style>\n",
              "<table border=\"1\" class=\"dataframe\">\n",
              "  <thead>\n",
              "    <tr style=\"text-align: right;\">\n",
              "      <th></th>\n",
              "      <th>statement</th>\n",
              "      <th>rank</th>\n",
              "      <th>score</th>\n",
              "      <th>prob</th>\n",
              "    </tr>\n",
              "  </thead>\n",
              "  <tbody>\n",
              "    <tr>\n",
              "      <th>1</th>\n",
              "      <td>Tyrion Lannister SPOUSE Missandei</td>\n",
              "      <td>3394</td>\n",
              "      <td>-0.754420</td>\n",
              "      <td>0.319859</td>\n",
              "    </tr>\n",
              "    <tr>\n",
              "      <th>8</th>\n",
              "      <td>House Tyrell of Highgarden IN_REGION Beyond th...</td>\n",
              "      <td>3203</td>\n",
              "      <td>-0.583997</td>\n",
              "      <td>0.358013</td>\n",
              "    </tr>\n",
              "    <tr>\n",
              "      <th>4</th>\n",
              "      <td>Daenerys Targaryen SPOUSE Jon Snow</td>\n",
              "      <td>3140</td>\n",
              "      <td>-0.494170</td>\n",
              "      <td>0.378912</td>\n",
              "    </tr>\n",
              "    <tr>\n",
              "      <th>0</th>\n",
              "      <td>Jorah Mormont SPOUSE Daenerys Targaryen</td>\n",
              "      <td>2759</td>\n",
              "      <td>-0.410053</td>\n",
              "      <td>0.398899</td>\n",
              "    </tr>\n",
              "    <tr>\n",
              "      <th>5</th>\n",
              "      <td>Daenerys Targaryen SPOUSE Craster</td>\n",
              "      <td>1558</td>\n",
              "      <td>0.289127</td>\n",
              "      <td>0.571782</td>\n",
              "    </tr>\n",
              "    <tr>\n",
              "      <th>2</th>\n",
              "      <td>King's Landing SEAT_OF House Lannister of Cast...</td>\n",
              "      <td>741</td>\n",
              "      <td>0.644687</td>\n",
              "      <td>0.655812</td>\n",
              "    </tr>\n",
              "    <tr>\n",
              "      <th>7</th>\n",
              "      <td>House Stark of Winterfell IN_REGION Dorne</td>\n",
              "      <td>578</td>\n",
              "      <td>0.706638</td>\n",
              "      <td>0.669658</td>\n",
              "    </tr>\n",
              "    <tr>\n",
              "      <th>3</th>\n",
              "      <td>Sansa Stark SPOUSE Petyr Baelish</td>\n",
              "      <td>34</td>\n",
              "      <td>2.448595</td>\n",
              "      <td>0.920459</td>\n",
              "    </tr>\n",
              "    <tr>\n",
              "      <th>6</th>\n",
              "      <td>House Stark of Winterfell IN_REGION The North</td>\n",
              "      <td>7</td>\n",
              "      <td>3.023992</td>\n",
              "      <td>0.953646</td>\n",
              "    </tr>\n",
              "    <tr>\n",
              "      <th>9</th>\n",
              "      <td>Brandon Stark ALLIED_WITH House Stark of Winte...</td>\n",
              "      <td>1</td>\n",
              "      <td>4.652188</td>\n",
              "      <td>0.990550</td>\n",
              "    </tr>\n",
              "  </tbody>\n",
              "</table>\n",
              "</div>\n",
              "      <button class=\"colab-df-convert\" onclick=\"convertToInteractive('df-818c3d6e-8453-4b87-a23a-3c01468c8ceb')\"\n",
              "              title=\"Convert this dataframe to an interactive table.\"\n",
              "              style=\"display:none;\">\n",
              "        \n",
              "  <svg xmlns=\"http://www.w3.org/2000/svg\" height=\"24px\"viewBox=\"0 0 24 24\"\n",
              "       width=\"24px\">\n",
              "    <path d=\"M0 0h24v24H0V0z\" fill=\"none\"/>\n",
              "    <path d=\"M18.56 5.44l.94 2.06.94-2.06 2.06-.94-2.06-.94-.94-2.06-.94 2.06-2.06.94zm-11 1L8.5 8.5l.94-2.06 2.06-.94-2.06-.94L8.5 2.5l-.94 2.06-2.06.94zm10 10l.94 2.06.94-2.06 2.06-.94-2.06-.94-.94-2.06-.94 2.06-2.06.94z\"/><path d=\"M17.41 7.96l-1.37-1.37c-.4-.4-.92-.59-1.43-.59-.52 0-1.04.2-1.43.59L10.3 9.45l-7.72 7.72c-.78.78-.78 2.05 0 2.83L4 21.41c.39.39.9.59 1.41.59.51 0 1.02-.2 1.41-.59l7.78-7.78 2.81-2.81c.8-.78.8-2.07 0-2.86zM5.41 20L4 18.59l7.72-7.72 1.47 1.35L5.41 20z\"/>\n",
              "  </svg>\n",
              "      </button>\n",
              "      \n",
              "  <style>\n",
              "    .colab-df-container {\n",
              "      display:flex;\n",
              "      flex-wrap:wrap;\n",
              "      gap: 12px;\n",
              "    }\n",
              "\n",
              "    .colab-df-convert {\n",
              "      background-color: #E8F0FE;\n",
              "      border: none;\n",
              "      border-radius: 50%;\n",
              "      cursor: pointer;\n",
              "      display: none;\n",
              "      fill: #1967D2;\n",
              "      height: 32px;\n",
              "      padding: 0 0 0 0;\n",
              "      width: 32px;\n",
              "    }\n",
              "\n",
              "    .colab-df-convert:hover {\n",
              "      background-color: #E2EBFA;\n",
              "      box-shadow: 0px 1px 2px rgba(60, 64, 67, 0.3), 0px 1px 3px 1px rgba(60, 64, 67, 0.15);\n",
              "      fill: #174EA6;\n",
              "    }\n",
              "\n",
              "    [theme=dark] .colab-df-convert {\n",
              "      background-color: #3B4455;\n",
              "      fill: #D2E3FC;\n",
              "    }\n",
              "\n",
              "    [theme=dark] .colab-df-convert:hover {\n",
              "      background-color: #434B5C;\n",
              "      box-shadow: 0px 1px 3px 1px rgba(0, 0, 0, 0.15);\n",
              "      filter: drop-shadow(0px 1px 2px rgba(0, 0, 0, 0.3));\n",
              "      fill: #FFFFFF;\n",
              "    }\n",
              "  </style>\n",
              "\n",
              "      <script>\n",
              "        const buttonEl =\n",
              "          document.querySelector('#df-818c3d6e-8453-4b87-a23a-3c01468c8ceb button.colab-df-convert');\n",
              "        buttonEl.style.display =\n",
              "          google.colab.kernel.accessAllowed ? 'block' : 'none';\n",
              "\n",
              "        async function convertToInteractive(key) {\n",
              "          const element = document.querySelector('#df-818c3d6e-8453-4b87-a23a-3c01468c8ceb');\n",
              "          const dataTable =\n",
              "            await google.colab.kernel.invokeFunction('convertToInteractive',\n",
              "                                                     [key], {});\n",
              "          if (!dataTable) return;\n",
              "\n",
              "          const docLinkHtml = 'Like what you see? Visit the ' +\n",
              "            '<a target=\"_blank\" href=https://colab.research.google.com/notebooks/data_table.ipynb>data table notebook</a>'\n",
              "            + ' to learn more about interactive tables.';\n",
              "          element.innerHTML = '';\n",
              "          dataTable['output_type'] = 'display_data';\n",
              "          await google.colab.output.renderOutput(dataTable, element);\n",
              "          const docLink = document.createElement('div');\n",
              "          docLink.innerHTML = docLinkHtml;\n",
              "          element.appendChild(docLink);\n",
              "        }\n",
              "      </script>\n",
              "    </div>\n",
              "  </div>\n",
              "  "
            ]
          },
          "metadata": {},
          "execution_count": 35
        }
      ]
    },
    {
      "cell_type": "markdown",
      "id": "domestic-invention",
      "metadata": {
        "id": "domestic-invention"
      },
      "source": [
        "# Task2-2 Relation Prediction"
      ]
    },
    {
      "cell_type": "code",
      "source": [
        "entities"
      ],
      "metadata": {
        "colab": {
          "base_uri": "https://localhost:8080/"
        },
        "id": "Ds_TVfgEpZia",
        "outputId": "f502947d-90f1-4a43-d12e-1de38256c5c2"
      },
      "id": "Ds_TVfgEpZia",
      "execution_count": null,
      "outputs": [
        {
          "output_type": "execute_result",
          "data": {
            "text/plain": [
              "array(['Abelar Hightower', 'Acorn Hall', 'Addam Frey', ..., 'the Antlers',\n",
              "       'the Paps', 'unnamed tower'], dtype=object)"
            ]
          },
          "metadata": {},
          "execution_count": 36
        }
      ]
    },
    {
      "cell_type": "code",
      "source": [
        "relations"
      ],
      "metadata": {
        "colab": {
          "base_uri": "https://localhost:8080/"
        },
        "id": "05_5u22dpbfN",
        "outputId": "4cd3c087-b201-4788-b20c-b326d079750d"
      },
      "id": "05_5u22dpbfN",
      "execution_count": null,
      "outputs": [
        {
          "output_type": "execute_result",
          "data": {
            "text/plain": [
              "array(['ALLIED_WITH', 'BRANCH_OF', 'FOUNDED_BY', 'HEIR_TO', 'IN_REGION',\n",
              "       'LED_BY', 'PARENT_OF', 'SEAT_OF', 'SPOUSE', 'SWORN_TO'],\n",
              "      dtype=object)"
            ]
          },
          "metadata": {},
          "execution_count": 37
        }
      ]
    },
    {
      "cell_type": "code",
      "execution_count": null,
      "id": "crucial-press",
      "metadata": {
        "colab": {
          "base_uri": "https://localhost:8080/"
        },
        "id": "crucial-press",
        "outputId": "f801d358-613a-4a23-f73c-dfda856996fe"
      },
      "outputs": [
        {
          "output_type": "stream",
          "name": "stdout",
          "text": [
            "ComplEx:  BRANCH_OF\n",
            "TransE:  SPOUSE\n",
            "DistMult:  SPOUSE\n"
          ]
        }
      ],
      "source": [
        "def relation_ComplEx(s, o):\n",
        "  lst = []\n",
        "  for i in relations:\n",
        "    lst.append([s, i, o])\n",
        "  X_unseen = np.array(lst)\n",
        "  scores = model.predict(X_unseen)\n",
        "  index = np.argmax(scores)\n",
        "  p = X_unseen[index][1]\n",
        "  return p\n",
        "\n",
        "def relation_TransE(s, o):\n",
        "  lst = []\n",
        "  for i in relations:\n",
        "    lst.append([s, i, o])\n",
        "  X_unseen = np.array(lst)\n",
        "  scores = model2.predict(X_unseen)\n",
        "  index = np.argmax(scores)\n",
        "  p = X_unseen[index][1]\n",
        "  return p\n",
        "\n",
        "def relation_DistMult(s, o):\n",
        "  lst = []\n",
        "  for i in relations:\n",
        "    lst.append([s, i, o])\n",
        "  X_unseen = np.array(lst)\n",
        "  scores = model3.predict(X_unseen)\n",
        "  index = np.argmax(scores)\n",
        "  p = X_unseen[index][1]\n",
        "  return p\n",
        "\n",
        "print('ComplEx: ', relation_ComplEx('Jorah Mormont', 'Daenerys Targaryen'))\n",
        "print('TransE: ', relation_TransE('Jorah Mormont', 'Daenerys Targaryen'))\n",
        "print('DistMult: ', relation_DistMult('Jorah Mormont', 'Daenerys Targaryen'))"
      ]
    },
    {
      "cell_type": "markdown",
      "id": "streaming-festival",
      "metadata": {
        "id": "streaming-festival"
      },
      "source": [
        "# Task2-3 Nearest Neighbor Search"
      ]
    },
    {
      "cell_type": "code",
      "execution_count": null,
      "id": "affecting-cornell",
      "metadata": {
        "colab": {
          "base_uri": "https://localhost:8080/"
        },
        "id": "affecting-cornell",
        "outputId": "bffc4cdb-0142-46b3-a701-6da67520bdd0"
      },
      "outputs": [
        {
          "output_type": "execute_result",
          "data": {
            "text/plain": [
              "['Arya Flint', 'Arya Stark']"
            ]
          },
          "metadata": {},
          "execution_count": 39
        }
      ],
      "source": [
        "list(filter(lambda x: 'Arya' in x, entities))"
      ]
    },
    {
      "cell_type": "code",
      "source": [
        "from ampligraph.discovery import find_nearest_neighbours"
      ],
      "metadata": {
        "id": "1dr-i0hfuCkk"
      },
      "id": "1dr-i0hfuCkk",
      "execution_count": null,
      "outputs": []
    },
    {
      "cell_type": "code",
      "execution_count": null,
      "id": "proof-tulsa",
      "metadata": {
        "colab": {
          "base_uri": "https://localhost:8080/"
        },
        "id": "proof-tulsa",
        "outputId": "94bcd822-3456-444f-b6d1-7de582c5f223"
      },
      "outputs": [
        {
          "output_type": "stream",
          "name": "stdout",
          "text": [
            "ComplEx:  [['Arya Stark' 'Rickon Stark' 'Skittrick' 'Donnis' 'TomToo']]\n",
            "TransE:  [['Arya Stark' 'Skittrick' 'Nan' 'Porther' 'Edwyn Stark']]\n",
            "DistMult:  [['Arya Stark' 'Rickon Stark' 'Farlen' 'TomToo' 'Porther']]\n"
          ]
        }
      ],
      "source": [
        "#ComplEx\n",
        "neighbors, dist = find_nearest_neighbours(model,\n",
        "                      entities=['Arya Stark'],\n",
        "                      n_neighbors=5,\n",
        "                      entities_subset=entities)\n",
        "print('ComplEx: ', neighbors)\n",
        "\n",
        "#TransE\n",
        "neighbors, dist = find_nearest_neighbours(model2,\n",
        "                      entities=['Arya Stark'],\n",
        "                      n_neighbors=5,\n",
        "                      entities_subset=entities)\n",
        "print('TransE: ', neighbors)\n",
        "\n",
        "#DistMult\n",
        "neighbors, dist = find_nearest_neighbours(model3,\n",
        "                      entities=['Arya Stark'],\n",
        "                      n_neighbors=5,\n",
        "                      entities_subset=entities)\n",
        "print('DistMult: ', neighbors)"
      ]
    }
  ],
  "metadata": {
    "kernelspec": {
      "display_name": "Python 3",
      "language": "python",
      "name": "python3"
    },
    "language_info": {
      "codemirror_mode": {
        "name": "ipython",
        "version": 3
      },
      "file_extension": ".py",
      "mimetype": "text/x-python",
      "name": "python",
      "nbconvert_exporter": "python",
      "pygments_lexer": "ipython3",
      "version": "3.8.8"
    },
    "colab": {
      "provenance": [],
      "collapsed_sections": []
    }
  },
  "nbformat": 4,
  "nbformat_minor": 5
}