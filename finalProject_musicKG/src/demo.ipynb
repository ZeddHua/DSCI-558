{
 "cells": [
  {
   "cell_type": "markdown",
   "id": "ef649a1e",
   "metadata": {
    "slideshow": {
     "slide_type": "-"
    }
   },
   "source": [
    "# Music Knowledge Graph with Recommender Demo"
   ]
  },
  {
   "cell_type": "markdown",
   "id": "5db8683e",
   "metadata": {},
   "source": [
    "## Import & Init"
   ]
  },
  {
   "cell_type": "code",
   "execution_count": 1,
   "id": "b04f4738",
   "metadata": {},
   "outputs": [],
   "source": [
    "from neo4j import GraphDatabase\n",
    "from yfiles_jupyter_graphs import GraphWidget\n",
    "import ipywidgets as widgets\n",
    "import pandas as pd\n",
    "import numpy as np\n",
    "import sys \n",
    "import os\n",
    "sys.path.append(os.path.abspath(\"/Users/tianyilouisli/Desktop/finalProject\"))\n",
    "from IPython.display import display\n",
    "from demo_util import Draw_Graph, RECOMMEND\n",
    "\n",
    "driver = GraphDatabase.driver(uri = 'bolt://localhost:11003', auth=('neo4j', 'DSCI558'))\n",
    "artist_selector = widgets.Combobox(placeholder='type something',options=sorted([item['a.name'] for item in driver.session().run(\"MATCH (a:Artist) RETURN a.name\").data()]),description='Artist:',ensure_option=True)\n",
    "band_selector = widgets.Combobox(placeholder='type something',options=sorted([item['b.name'] for item in driver.session().run(\"MATCH (b:Band) RETURN b.name\").data()]),description='Band:',ensure_option=True)\n",
    "genre_selector = widgets.Combobox(placeholder='type something',options=sorted([item['g.name'] for item in driver.session().run(\"MATCH (g:Genre) RETURN g.name\").data()]),description='Genre:',ensure_option=True)\n",
    "song_selector = widgets.Combobox(placeholder='type something',options=sorted([item['s.name'] for item in driver.session().run(\"MATCH (s:Song) RETURN s.name\").data()]),description='Song:',ensure_option=True)"
   ]
  },
  {
   "cell_type": "markdown",
   "id": "d2636849",
   "metadata": {},
   "source": [
    "## Exploratory Graph & Ontology"
   ]
  },
  {
   "cell_type": "code",
   "execution_count": 2,
   "id": "6bb0604a",
   "metadata": {},
   "outputs": [
    {
     "data": {
      "application/vnd.jupyter.widget-view+json": {
       "model_id": "0cb84fb626954e6fb39e72c7d0eed8ee",
       "version_major": 2,
       "version_minor": 0
      },
      "text/plain": [
       "GraphWidget(layout=Layout(height='500px', width='100%'))"
      ]
     },
     "metadata": {},
     "output_type": "display_data"
    }
   ],
   "source": [
    "Draw_Graph(driver.session().run(\"\"\"Match triple = (s)-[p]-(o) Return triple LIMIT 1000\"\"\").graph())"
   ]
  },
  {
   "cell_type": "markdown",
   "id": "89591850",
   "metadata": {},
   "source": [
    "## Explore Genre Hierarchy"
   ]
  },
  {
   "cell_type": "code",
   "execution_count": 3,
   "id": "89510ce4",
   "metadata": {},
   "outputs": [
    {
     "data": {
      "application/vnd.jupyter.widget-view+json": {
       "model_id": "5f6427e5c3ee4c5087150f4b7dd6612e",
       "version_major": 2,
       "version_minor": 0
      },
      "text/plain": [
       "GraphWidget(layout=Layout(height='500px', width='100%'))"
      ]
     },
     "metadata": {},
     "output_type": "display_data"
    }
   ],
   "source": [
    "Draw_Graph(driver.session().run(\"\"\"Match triple = ()-[:SUBGENRE_OF]-() Return triple LIMIT 1000\"\"\").graph())"
   ]
  },
  {
   "cell_type": "markdown",
   "id": "11d3a381",
   "metadata": {},
   "source": [
    "## Query & Graph Relations of Selected Artist"
   ]
  },
  {
   "cell_type": "code",
   "execution_count": 4,
   "id": "5a12fe35",
   "metadata": {},
   "outputs": [
    {
     "data": {
      "application/vnd.jupyter.widget-view+json": {
       "model_id": "88faa7adb4b24949bccad4b78889379b",
       "version_major": 2,
       "version_minor": 0
      },
      "text/plain": [
       "Combobox(value='', description='Artist:', ensure_option=True, options=(\"'Fast' Eddie Clarke\", \"'You Can Ask' G…"
      ]
     },
     "metadata": {},
     "output_type": "display_data"
    }
   ],
   "source": [
    "display(artist_selector)"
   ]
  },
  {
   "cell_type": "code",
   "execution_count": 5,
   "id": "4ed85dc3",
   "metadata": {},
   "outputs": [
    {
     "data": {
      "application/vnd.jupyter.widget-view+json": {
       "model_id": "893c5111dafa4de8815c1a717ab924a9",
       "version_major": 2,
       "version_minor": 0
      },
      "text/plain": [
       "GraphWidget(layout=Layout(height='500px', width='100%'))"
      ]
     },
     "metadata": {},
     "output_type": "display_data"
    }
   ],
   "source": [
    "Draw_Graph(driver.session().run(\"Match triple = (s) - [] - () WHERE s.name =\" + '\"' + artist_selector.value + '\"' + \" Return triple LIMIT 30\").graph())"
   ]
  },
  {
   "cell_type": "markdown",
   "id": "4c3ae6d2",
   "metadata": {},
   "source": [
    "## Query & Graph Relations of Selected Band"
   ]
  },
  {
   "cell_type": "code",
   "execution_count": 6,
   "id": "201870af",
   "metadata": {},
   "outputs": [
    {
     "data": {
      "application/vnd.jupyter.widget-view+json": {
       "model_id": "81887719a7c141e980d8de779d1e83ba",
       "version_major": 2,
       "version_minor": 0
      },
      "text/plain": [
       "Combobox(value='', description='Band:', ensure_option=True, options=('808 State', 'A Certain Ratio', 'A Tribe …"
      ]
     },
     "metadata": {},
     "output_type": "display_data"
    }
   ],
   "source": [
    "display(band_selector)"
   ]
  },
  {
   "cell_type": "code",
   "execution_count": 7,
   "id": "30b728a4",
   "metadata": {},
   "outputs": [
    {
     "data": {
      "application/vnd.jupyter.widget-view+json": {
       "model_id": "132ec4e14429466080d2298374e962a7",
       "version_major": 2,
       "version_minor": 0
      },
      "text/plain": [
       "GraphWidget(layout=Layout(height='500px', width='100%'))"
      ]
     },
     "metadata": {},
     "output_type": "display_data"
    }
   ],
   "source": [
    "Draw_Graph(driver.session().run(\"Match triple = (s) - [] - () WHERE s.name =\" + '\"' + band_selector.value + '\"' + \" Return triple LIMIT 30\").graph())"
   ]
  },
  {
   "cell_type": "markdown",
   "id": "5e1060b6",
   "metadata": {},
   "source": [
    "## Query & Graph Relations of Selected Genre"
   ]
  },
  {
   "cell_type": "code",
   "execution_count": 8,
   "id": "8311f43d",
   "metadata": {},
   "outputs": [
    {
     "data": {
      "application/vnd.jupyter.widget-view+json": {
       "model_id": "2572dac6f44c4ab1ae54233181210f66",
       "version_major": 2,
       "version_minor": 0
      },
      "text/plain": [
       "Combobox(value='', description='Genre:', ensure_option=True, options=('AM Pop', 'Aboriginal Rock', 'Acadian', …"
      ]
     },
     "metadata": {},
     "output_type": "display_data"
    }
   ],
   "source": [
    "display(genre_selector)"
   ]
  },
  {
   "cell_type": "code",
   "execution_count": 9,
   "id": "deaff551",
   "metadata": {},
   "outputs": [
    {
     "data": {
      "application/vnd.jupyter.widget-view+json": {
       "model_id": "f730db781e3c47e992ecb212c51670ad",
       "version_major": 2,
       "version_minor": 0
      },
      "text/plain": [
       "GraphWidget(layout=Layout(height='500px', width='100%'))"
      ]
     },
     "metadata": {},
     "output_type": "display_data"
    }
   ],
   "source": [
    "Draw_Graph(driver.session().run(\"Match triple = (g:Genre) - [*] - (g2:Genre) WHERE g.name =\" + '\"' + genre_selector.value + '\"' + \" Return triple LIMIT 30\").graph())"
   ]
  },
  {
   "cell_type": "markdown",
   "id": "77f37085",
   "metadata": {},
   "source": [
    "## Query & Graph Relations of Selected Song"
   ]
  },
  {
   "cell_type": "code",
   "execution_count": 10,
   "id": "83134d5c",
   "metadata": {},
   "outputs": [
    {
     "data": {
      "application/vnd.jupyter.widget-view+json": {
       "model_id": "e036d76861244611a8861cf45ce49bef",
       "version_major": 2,
       "version_minor": 0
      },
      "text/plain": [
       "Combobox(value='', description='Song:', ensure_option=True, options=(\"'39\", \"'A' Bomb in Wardour Street\", \"'B'…"
      ]
     },
     "metadata": {},
     "output_type": "display_data"
    }
   ],
   "source": [
    "display(song_selector)"
   ]
  },
  {
   "cell_type": "code",
   "execution_count": 11,
   "id": "992dab6a",
   "metadata": {},
   "outputs": [
    {
     "data": {
      "application/vnd.jupyter.widget-view+json": {
       "model_id": "0d140e60a1bd4b8db735a4e296a50744",
       "version_major": 2,
       "version_minor": 0
      },
      "text/plain": [
       "GraphWidget(layout=Layout(height='500px', width='100%'))"
      ]
     },
     "metadata": {},
     "output_type": "display_data"
    }
   ],
   "source": [
    "Draw_Graph(driver.session().run(\"Match triple = (s) - [*] - () WHERE s.name =\" + '\"' + song_selector.value + '\"' + \" Return triple LIMIT 30\").graph())"
   ]
  },
  {
   "cell_type": "markdown",
   "id": "9274a06e",
   "metadata": {},
   "source": [
    "## Recommend Similar Songs "
   ]
  },
  {
   "cell_type": "code",
   "execution_count": 12,
   "id": "f2ce8c7c",
   "metadata": {},
   "outputs": [
    {
     "data": {
      "application/vnd.jupyter.widget-view+json": {
       "model_id": "e036d76861244611a8861cf45ce49bef",
       "version_major": 2,
       "version_minor": 0
      },
      "text/plain": [
       "Combobox(value='Born to Play Guitar', description='Song:', ensure_option=True, options=(\"'39\", \"'A' Bomb in Wa…"
      ]
     },
     "metadata": {},
     "output_type": "display_data"
    }
   ],
   "source": [
    "display(song_selector)"
   ]
  },
  {
   "cell_type": "code",
   "execution_count": 13,
   "id": "8e53e098",
   "metadata": {},
   "outputs": [
    {
     "name": "stdout",
     "output_type": "stream",
     "text": [
      "Recommend similar song to '(Where Do I Begin) Love Story':\n",
      "1 The Hills\n",
      "2 Prelude to the Afternoon of a Sexually Aroused Gas Mask\n",
      "3 Survival\n",
      "4 We've Only Just Begun\n",
      "5 Too Much Love Will Kill You\n"
     ]
    }
   ],
   "source": [
    "recommendation = RECOMMEND(driver, song_selector.value)"
   ]
  },
  {
   "cell_type": "code",
   "execution_count": 14,
   "id": "7a18324b",
   "metadata": {},
   "outputs": [
    {
     "data": {
      "application/vnd.jupyter.widget-view+json": {
       "model_id": "34d9548b8cf04a4588f1bea09f748308",
       "version_major": 2,
       "version_minor": 0
      },
      "text/plain": [
       "GraphWidget(layout=Layout(height='500px', width='100%'))"
      ]
     },
     "metadata": {},
     "output_type": "display_data"
    }
   ],
   "source": [
    "Draw_Graph(driver.session().run(\"Match triple = (s) - [] - () WHERE s.uri IN \" +  str(recommendation) + \" Return triple LIMIT 100\").graph())"
   ]
  },
  {
   "cell_type": "code",
   "execution_count": null,
   "id": "e5d9bdbe",
   "metadata": {},
   "outputs": [],
   "source": []
  }
 ],
 "metadata": {
  "kernelspec": {
   "display_name": "Python 3 (ipykernel)",
   "language": "python",
   "name": "python3"
  },
  "language_info": {
   "codemirror_mode": {
    "name": "ipython",
    "version": 3
   },
   "file_extension": ".py",
   "mimetype": "text/x-python",
   "name": "python",
   "nbconvert_exporter": "python",
   "pygments_lexer": "ipython3",
   "version": "3.8.15"
  }
 },
 "nbformat": 4,
 "nbformat_minor": 5
}
