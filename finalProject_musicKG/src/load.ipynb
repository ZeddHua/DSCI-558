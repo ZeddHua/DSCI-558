{
 "cells": [
  {
   "cell_type": "code",
   "execution_count": 39,
   "id": "d993c0be",
   "metadata": {},
   "outputs": [],
   "source": [
    "import csv, time, json, ast\n",
    "from neo4j import GraphDatabase"
   ]
  },
  {
   "cell_type": "code",
   "execution_count": 40,
   "id": "442a785a",
   "metadata": {},
   "outputs": [],
   "source": [
    "startTime = time.time()\n",
    "song_list = set()\n",
    "genre_list = set()\n",
    "artist_list = set()\n",
    "group_list = set()\n",
    "P = set()\n",
    "with open('../kg_data/music_kg.csv', 'r') as f:\n",
    "    reader = csv.reader(f, delimiter=',')\n",
    "    count = 0\n",
    "    for row in reader:\n",
    "        if row[0] == 's':\n",
    "            continue\n",
    "        P.add(row[1])\n",
    "        if row[2] == 'http://inf558.org/mynamespace#artist':\n",
    "            artist_list.add(row[0])\n",
    "        if row[2] == 'http://inf558.org/mynamespace#group':\n",
    "            group_list.add(row[0])\n",
    "        if row[2] == 'http://inf558.org/mynamespace#song':\n",
    "            song_list.add(row[0])\n",
    "        if row[2] == 'http://inf558.org/mynamespace#genre':\n",
    "            genre_list.add(row[0])\n",
    "    f.close()\n",
    "\n",
    "    song_list = [*song_list]\n",
    "    genre_list = [*genre_list]\n",
    "    artist_list = [*artist_list]\n",
    "    group_list = [*group_list]\n",
    "    connector = GraphDatabase.driver(uri = 'bolt://localhost:11003', auth=('neo4j', 'DSCI558'))\n",
    "    session = connector.session()"
   ]
  },
  {
   "cell_type": "code",
   "execution_count": 41,
   "id": "d88694b4",
   "metadata": {},
   "outputs": [
    {
     "data": {
      "text/plain": [
       "{'acousticness',\n",
       " 'active_years',\n",
       " 'aliases',\n",
       " 'belongs_to',\n",
       " 'born_in',\n",
       " 'composed_by',\n",
       " 'danceability',\n",
       " 'discription',\n",
       " 'energy',\n",
       " 'http://xmlns.com/foaf/0.1/name',\n",
       " 'instrumentalness',\n",
       " 'loudness',\n",
       " 'member_of',\n",
       " 'performed_by',\n",
       " 'release_year',\n",
       " 'subgenre_of',\n",
       " 'type',\n",
       " 'valence'}"
      ]
     },
     "execution_count": 41,
     "metadata": {},
     "output_type": "execute_result"
    }
   ],
   "source": [
    "P"
   ]
  },
  {
   "cell_type": "code",
   "execution_count": 42,
   "id": "50979074",
   "metadata": {},
   "outputs": [],
   "source": [
    "session.run('MATCH (n) DETACH DELETE n')\n",
    "query = []\n",
    "for song_uri in song_list:\n",
    "    query.append('CREATE (s:Song {uri:' + '\"' + song_uri + '\"' + '}) RETURN s')\n",
    "for artist_uri in artist_list:\n",
    "    query.append('CREATE (a:Artist {uri:' + '\"' + artist_uri + '\"' + '}) RETURN a')\n",
    "for group_uri in group_list:\n",
    "    query.append('CREATE (b:Band {uri:' + '\"' + group_uri + '\"' + '}) RETURN b')\n",
    "for genre_uri in genre_list:\n",
    "    query.append('CREATE (g:Genre {uri:' + '\"' + genre_uri + '\"' + '}) RETURN g')"
   ]
  },
  {
   "cell_type": "code",
   "execution_count": 43,
   "id": "3a879308",
   "metadata": {},
   "outputs": [],
   "source": [
    "with open('../kg_data/music_kg.csv', 'r') as f:\n",
    "    reader = csv.reader(f, delimiter=',')\n",
    "    for row in reader:\n",
    "        if row[1] == 'release_year':\n",
    "            query.append('MATCH (s:Song {uri:' + '\"' + row[0] + '\"' + '}) SET s.year = ' + '\"' + row[2] + '\"' +  ' RETURN s')    \n",
    "        if row[1] == 'http://xmlns.com/foaf/0.1/name':\n",
    "            if row[0] in song_list:\n",
    "                query.append('MATCH (s:Song {uri:' + '\"' + row[0] + '\"' + '}) SET s.name = ' + '\"' + row[2].replace('\"', \"'\") + '\"' +  ' RETURN s')    \n",
    "            if row[0] in artist_list:\n",
    "                query.append('MATCH (a:Artist {uri:' + '\"' + row[0] + '\"' + '}) SET a.name = ' + '\"' + row[2].replace('\"', \"'\") + '\"' +  ' RETURN a')  \n",
    "            if row[0] in group_list:\n",
    "                query.append('MATCH (b:Band {uri:' + '\"' + row[0] + '\"' + '}) SET b.name = ' + '\"' + row[2].replace('\"', \"'\") + '\"' +  ' RETURN b')  \n",
    "            if row[0] in genre_list:\n",
    "                query.append('MATCH (g:Genre {uri:' + '\"' + row[0] + '\"' + '}) SET g.name = ' + '\"' + row[2].replace('\"', \"'\") + '\"' +  ' RETURN g')  \n",
    "        if row[1] == 'aliases':\n",
    "            query.append('MATCH (a:Artist {uri:' + '\"' + row[0] + '\"' + '}) SET a.aliases = ' + '\"' + row[2].replace('\"', \"'\") + '\"' +  ' RETURN a')    \n",
    "        if row[1] == 'valence':\n",
    "            query.append('MATCH (s:Song {uri:' + '\"' + row[0] + '\"' + '})' + ' SET s.valence = {} RETURN s'.format(row[2])) \n",
    "        if row[1] == 'loudness':\n",
    "            query.append('MATCH (s:Song {uri:' + '\"' + row[0] + '\"' + '})' + ' SET s.loudness = {} RETURN s'.format(row[2])) \n",
    "        if row[1] == 'acousticness':\n",
    "            query.append('MATCH (s:Song {uri:' + '\"' + row[0] + '\"' + '})' + ' SET s.acousticness = {} RETURN s'.format(row[2]))  \n",
    "        if row[1] == 'energy':\n",
    "            query.append('MATCH (s:Song {uri:' + '\"' + row[0] + '\"' + '})' + ' SET s.energy = {} RETURN s'.format(row[2]))  \n",
    "        if row[1] == 'danceability':\n",
    "            query.append('MATCH (s:Song {uri:' + '\"' + row[0] + '\"' + '})' + ' SET s.danceability = {} RETURN s'.format(row[2]))  \n",
    "            \n",
    "        if row[1] == 'belongs_to':\n",
    "            query.append('MATCH (s:Song {uri:' + '\"' + row[0] + '\"' + '}) MATCH (g:Genre {uri:' + '\"' + row[2] + '\"' + '}) CREATE (s)-[:BELONGS_TO]->(g)')  \n",
    "            \n",
    "        if row[1] == 'born_in':\n",
    "            if row[0] in artist_list:\n",
    "                query.append('MATCH (a:Artist {uri:' + '\"' + row[0] + '\"' + '}) SET a.born_in = ' + '\"' + row[2] + '\"' +  ' RETURN a')  \n",
    "            if row[0] in group_list:\n",
    "                query.append('MATCH (b:Band {uri:' + '\"' + row[0] + '\"' + '}) SET b.born_in = ' + '\"' + row[2] + '\"' +  ' RETURN b') \n",
    "                \n",
    "        if row[1] == 'active_years':\n",
    "            if row[0] in artist_list:\n",
    "                query.append('MATCH (a:Artist {uri:' + '\"' + row[0] + '\"' + '}) SET a.active_years = ' + '\"' + row[2] + '\"' +  ' RETURN a')  \n",
    "            if row[0] in group_list:\n",
    "                query.append('MATCH (b:Band {uri:' + '\"' + row[0] + '\"' + '}) SET b.active_years = ' + '\"' + row[2] + '\"' +  ' RETURN b') \n",
    "                \n",
    "        if row[1] == 'composed_by':\n",
    "            if row[2] in artist_list:\n",
    "                query.append('MATCH (s:Song {uri:' + '\"' + row[0] + '\"' + '}) MATCH (a:Artist {uri:' + '\"' + row[2] + '\"' + '}) CREATE (s)-[:COMPOSED_BY]->(a)')\n",
    "            if row[2] in group_list:\n",
    "                query.append('MATCH (s:Song {uri:' + '\"' + row[0] + '\"' + '}) MATCH (b:Band {uri:' + '\"' + row[2] + '\"' + '}) CREATE (s)-[:COMPOSED_BY]->(b)') \n",
    "                \n",
    "        if row[1] == 'performed_by':\n",
    "            if row[2] in artist_list:\n",
    "                query.append('MATCH (s:Song {uri:' + '\"' + row[0] + '\"' + '}) MATCH (a:Artist {uri:' + '\"' + row[2] + '\"' + '}) CREATE (s)-[:PERFORMED_BY]->(a)')\n",
    "            if row[2] in group_list:\n",
    "                query.append('MATCH (s:Song {uri:' + '\"' + row[0] + '\"' + '}) MATCH (b:Band {uri:' + '\"' + row[2] + '\"' + '}) CREATE (s)-[:PERFORMED_BY]->(b)') \n",
    "                \n",
    "        if row[1] == 'discription':\n",
    "            if row[0] in artist_list:\n",
    "                query.append('MATCH (a:Artist {uri:' + '\"' + row[0] + '\"' + '}) SET a.discription = ' + '\"' + row[2].replace('\"', \"'\") + '\"' +  ' RETURN a')  \n",
    "            if row[0] in group_list:\n",
    "                query.append('MATCH (b:Band {uri:' + '\"' + row[0] + '\"' + '}) SET b.discription = ' + '\"' + row[2].replace('\"', \"'\") + '\"' +  ' RETURN b')  \n",
    "            if row[0] in genre_list:\n",
    "                query.append('MATCH (g:Genre {uri:' + '\"' + row[0] + '\"' + '}) SET g.discription = ' + '\"' + row[2].replace('\"', \"'\") + '\"' +  ' RETURN g')\n",
    "                \n",
    "        if row[1] == 'member_of':\n",
    "            query.append('MATCH (a:Artist {uri:' + '\"' + row[0] + '\"' + '}) MATCH (b:Band {uri:' + '\"' + row[2] + '\"' + '}) CREATE (a)-[:MEMBER_OF]->(b)')\n",
    "            \n",
    "        if row[1] == 'subgenre_of':\n",
    "            query.append('MATCH (g1:Genre {uri:' + '\"' + row[0] + '\"' + '}) MATCH (g2:Genre {uri:' + '\"' + row[2] + '\"' + '}) CREATE (g1)-[:SUBGENRE_OF]->(g2)')\n",
    "            \n"
   ]
  },
  {
   "cell_type": "code",
   "execution_count": 1,
   "id": "470a8a72",
   "metadata": {},
   "outputs": [],
   "source": [
    "# for line in query:\n",
    "#     session.run(line)"
   ]
  },
  {
   "cell_type": "code",
   "execution_count": null,
   "id": "f73478be",
   "metadata": {},
   "outputs": [],
   "source": []
  }
 ],
 "metadata": {
  "kernelspec": {
   "display_name": "Python 3 (ipykernel)",
   "language": "python",
   "name": "python3"
  },
  "language_info": {
   "codemirror_mode": {
    "name": "ipython",
    "version": 3
   },
   "file_extension": ".py",
   "mimetype": "text/x-python",
   "name": "python",
   "nbconvert_exporter": "python",
   "pygments_lexer": "ipython3",
   "version": "3.8.13"
  }
 },
 "nbformat": 4,
 "nbformat_minor": 5
}
