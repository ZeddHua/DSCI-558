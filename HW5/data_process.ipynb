{
 "cells": [
  {
   "cell_type": "code",
   "execution_count": 5,
   "id": "burning-infrastructure",
   "metadata": {
    "execution": {
     "iopub.execute_input": "2022-10-25T04:20:31.219662Z",
     "iopub.status.busy": "2022-10-25T04:20:31.219662Z",
     "iopub.status.idle": "2022-10-25T04:20:31.234620Z",
     "shell.execute_reply": "2022-10-25T04:20:31.232627Z",
     "shell.execute_reply.started": "2022-10-25T04:20:31.219662Z"
    }
   },
   "outputs": [],
   "source": [
    "import pandas as pd\n",
    "from itertools import product\n",
    "import random"
   ]
  },
  {
   "cell_type": "code",
   "execution_count": 23,
   "id": "fixed-patrick",
   "metadata": {
    "execution": {
     "iopub.execute_input": "2022-10-25T04:34:36.375853Z",
     "iopub.status.busy": "2022-10-25T04:34:36.375853Z",
     "iopub.status.idle": "2022-10-25T04:34:36.451648Z",
     "shell.execute_reply": "2022-10-25T04:34:36.451648Z",
     "shell.execute_reply.started": "2022-10-25T04:34:36.375853Z"
    }
   },
   "outputs": [],
   "source": [
    "imdb = pd.read_csv('imdb.csv')\n",
    "rt = pd.read_csv('rotten_tomatoes.csv')\n",
    "labeled = pd.read_csv('labeled_data.csv', skiprows=5)"
   ]
  },
  {
   "cell_type": "code",
   "execution_count": 8,
   "id": "superb-interaction",
   "metadata": {
    "execution": {
     "iopub.execute_input": "2022-10-25T01:42:10.681999Z",
     "iopub.status.busy": "2022-10-25T01:42:10.681999Z",
     "iopub.status.idle": "2022-10-25T01:42:10.791273Z",
     "shell.execute_reply": "2022-10-25T01:42:10.791273Z",
     "shell.execute_reply.started": "2022-10-25T01:42:10.681999Z"
    }
   },
   "outputs": [],
   "source": [
    "imdb = pd.read_csv('imdb.csv')\n",
    "imdb.fillna('null', inplace=True)\n",
    "imdb[['ID', 'Title']].to_csv('./data/imdb_title.txt', header=None, index=None, sep='\\t')\n",
    "imdb[['ID', 'Director']].to_csv('./data/imdb_director.txt', header=None, index=None, sep='\\t')\n",
    "imdb[['ID', 'Year']].to_csv('./data/imdb_date.txt', header=None, index=None, sep='\\t')\n",
    "\n",
    "rt = pd.read_csv('rotten_tomatoes.csv')\n",
    "rt.fillna('null', inplace=True)\n",
    "rt[['ID', 'Title']].to_csv('./data/rotten_tomatoes_title.txt', header=None, index=None, sep='\\t')\n",
    "rt[['ID', 'Director']].to_csv('./data/rotten_tomatoes_director.txt', header=None, index=None, sep='\\t')\n",
    "rt[['ID', 'Year']].to_csv('./data/rotten_tomatoes_date.txt', header=None, index=None, sep='\\t')\n",
    "\n",
    "target = list(product(imdb['ID'], rt['ID']))\n",
    "pd.DataFrame(target).to_csv('./data/same_movie_target.txt', header=None, index=None, sep='\\t')\n",
    "        \n",
    "labeled = pd.read_csv('labeled_data.csv', skiprows=5)\n",
    "labeled['ltable.ID'] = labeled['ltable.ID'].apply(lambda x: 'a-'+str(x))\n",
    "labeled['rtable.ID'] = labeled['rtable.ID'].apply(lambda x: 'b-'+str(x))\n",
    "labeled[['ltable.ID', 'rtable.ID', 'gold']].to_csv('./data/same_movie_truth.txt', header=None, index=None, sep='\\t')"
   ]
  },
  {
   "cell_type": "code",
   "execution_count": 12,
   "id": "tender-specialist",
   "metadata": {
    "execution": {
     "iopub.execute_input": "2022-10-25T04:27:03.120288Z",
     "iopub.status.busy": "2022-10-25T04:27:03.120288Z",
     "iopub.status.idle": "2022-10-25T04:27:03.157467Z",
     "shell.execute_reply": "2022-10-25T04:27:03.156465Z",
     "shell.execute_reply.started": "2022-10-25T04:27:03.120288Z"
    }
   },
   "outputs": [
    {
     "name": "stdout",
     "output_type": "stream",
     "text": [
      "<class 'pandas.core.frame.DataFrame'>\n",
      "RangeIndex: 2961 entries, 0 to 2960\n",
      "Data columns (total 11 columns):\n",
      " #   Column         Non-Null Count  Dtype  \n",
      "---  ------         --------------  -----  \n",
      " 0   ID             2961 non-null   object \n",
      " 1   Title          2961 non-null   object \n",
      " 2   Year           2949 non-null   object \n",
      " 3   Rating         2937 non-null   float64\n",
      " 4   Director       2958 non-null   object \n",
      " 5   Creators       2867 non-null   object \n",
      " 6   Cast           2950 non-null   object \n",
      " 7   Genre          2959 non-null   object \n",
      " 8   Duration       2931 non-null   object \n",
      " 9   ContentRating  2712 non-null   object \n",
      " 10  Summary        2950 non-null   object \n",
      "dtypes: float64(1), object(10)\n",
      "memory usage: 254.6+ KB\n"
     ]
    }
   ],
   "source": [
    "imdb.info()"
   ]
  },
  {
   "cell_type": "code",
   "execution_count": 30,
   "id": "passive-range",
   "metadata": {
    "execution": {
     "iopub.execute_input": "2022-10-25T04:40:18.792963Z",
     "iopub.status.busy": "2022-10-25T04:40:18.792963Z",
     "iopub.status.idle": "2022-10-25T04:40:28.176903Z",
     "shell.execute_reply": "2022-10-25T04:40:28.175902Z",
     "shell.execute_reply.started": "2022-10-25T04:40:18.792963Z"
    }
   },
   "outputs": [],
   "source": [
    "target = list(product(imdb['ID'], rt['ID']))\n",
    "pd.DataFrame(target).to_csv('./data/same_movie_target.txt', header=None, index=None, sep='\\t')"
   ]
  },
  {
   "cell_type": "code",
   "execution_count": 20,
   "id": "dressed-kazakhstan",
   "metadata": {
    "execution": {
     "iopub.execute_input": "2022-10-25T04:30:16.706431Z",
     "iopub.status.busy": "2022-10-25T04:30:16.705434Z",
     "iopub.status.idle": "2022-10-25T04:30:16.729371Z",
     "shell.execute_reply": "2022-10-25T04:30:16.728373Z",
     "shell.execute_reply.started": "2022-10-25T04:30:16.706431Z"
    }
   },
   "outputs": [],
   "source": [
    "imdb.Year = imdb.Year.apply(lambda x: str(x)[5:] if x != 'null' else str(x))\n",
    "imdb[['ID', 'Year']].to_csv('./data/imdb_date_block.txt', header=None, index=None, sep='\\t')\n",
    "\n",
    "rt.Year = rt.Year.apply(lambda x: str(x)[5:] if x != 'null' else str(x))\n",
    "rt[['ID', 'Year']].to_csv('./data/rotten_tomatoes_date_block.txt', header=None, index=None, sep='\\t')"
   ]
  },
  {
   "cell_type": "code",
   "execution_count": null,
   "id": "russian-guatemala",
   "metadata": {},
   "outputs": [],
   "source": []
  }
 ],
 "metadata": {
  "kernelspec": {
   "display_name": "Python 3",
   "language": "python",
   "name": "python3"
  },
  "language_info": {
   "codemirror_mode": {
    "name": "ipython",
    "version": 3
   },
   "file_extension": ".py",
   "mimetype": "text/x-python",
   "name": "python",
   "nbconvert_exporter": "python",
   "pygments_lexer": "ipython3",
   "version": "3.8.8"
  }
 },
 "nbformat": 4,
 "nbformat_minor": 5
}
